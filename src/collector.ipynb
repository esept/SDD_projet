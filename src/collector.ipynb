{
  "cells": [
    {
      "cell_type": "code",
      "execution_count": 2,
      "metadata": {
        "id": "LvDVpoEJlRKM"
      },
      "outputs": [],
      "source": [
        "from huggingface_hub import HfApi\n",
        "import pandas as pd\n",
        "\n",
        "api = HfApi()"
      ]
    },
    {
      "cell_type": "code",
      "source": [
        "nb = 0\n",
        "nb_all = 0\n",
        "for i in api.list_models():\n",
        "  nb_all += 1\n",
        "  if i.downloads > 10:\n",
        "    nb += 1\n",
        "\n",
        "print(f\"Nb of all models: {nb_all}, Nb of models' download > 10:{nb}\")"
      ],
      "metadata": {
        "colab": {
          "base_uri": "https://localhost:8080/"
        },
        "id": "JofQ45u_SHvQ",
        "outputId": "06be3d1b-eaf6-4e5a-fbc7-9787a21edbbd"
      },
      "execution_count": 3,
      "outputs": [
        {
          "output_type": "stream",
          "name": "stderr",
          "text": [
            "/usr/local/lib/python3.10/dist-packages/huggingface_hub/utils/_token.py:88: UserWarning: \n",
            "The secret `HF_TOKEN` does not exist in your Colab secrets.\n",
            "To authenticate with the Hugging Face Hub, create a token in your settings tab (https://huggingface.co/settings/tokens), set it as secret in your Google Colab and restart your session.\n",
            "You will be able to reuse this secret in all of your notebooks.\n",
            "Please note that authentication is recommended but still optional to access public models or datasets.\n",
            "  warnings.warn(\n"
          ]
        },
        {
          "output_type": "stream",
          "name": "stdout",
          "text": [
            "Nb of all models: 481296, Nb of models' download > 10:45085\n"
          ]
        }
      ]
    },
    {
      "cell_type": "code",
      "execution_count": 4,
      "metadata": {
        "colab": {
          "base_uri": "https://localhost:8080/"
        },
        "id": "Ft6Z2DvSl_Xz",
        "outputId": "7f177a97-b312-4a57-c74c-4dcaccf7957f"
      },
      "outputs": [
        {
          "output_type": "stream",
          "name": "stdout",
          "text": [
            "nb of all dataset: 100109\n"
          ]
        }
      ],
      "source": [
        "nb_data = sum(1 for _ in api.list_datasets())\n",
        "print(f\"nb of all dataset: {nb_data}\")"
      ]
    },
    {
      "cell_type": "code",
      "source": [
        "df_data = pd.DataFrame()\n",
        "i = 0\n",
        "# 遍历这个列表来获取每个数据集的详细信息\n",
        "for dataset in api.list_datasets():\n",
        "  i += 1\n",
        "  data_info = {\n",
        "      \"name\": dataset.id,\n",
        "      \"author\": dataset.author,\n",
        "      \"CreateTime\": dataset.created_at,\n",
        "      \"Last Modified\": dataset.last_modified,\n",
        "      \"Private\": dataset.private,\n",
        "      \"Gated\": dataset.gated,\n",
        "      \"Disabled\": dataset.disabled,\n",
        "      \"Downloads\": dataset.downloads,\n",
        "      \"Likes\": dataset.likes,\n",
        "      \"paper_with_code\": dataset.paperswithcode_id,\n",
        "      \"Tags\": dataset.tags,\n",
        "      \"Card_data\": dataset.card_data,\n",
        "      \"Siblings\": dataset.siblings\n",
        "  }\n",
        "\n",
        "  df_data = pd.concat([df_data,pd.DataFrame([data_info])],ignore_index=True)\n",
        "df_data.to_csv(\"./datasets.csv\",index = False)"
      ],
      "metadata": {
        "id": "tpsEWzsNaqfI"
      },
      "execution_count": null,
      "outputs": []
    },
    {
      "cell_type": "code",
      "source": [
        "import pandas as pd\n",
        "df = pd.DataFrame()\n",
        "for model in api.list_models():\n",
        "\n",
        "  if model.downloads > 10:\n",
        "    i += 1\n",
        "    model_data = {\n",
        "        \"Name\": model.id,\n",
        "        \"Create_Time\": model.created_at,\n",
        "        \"Last_Modified\": model.last_modified,\n",
        "        \"private\": model.private,\n",
        "        \"gated\": model.gated,\n",
        "        \"Disabled\": model.disabled,\n",
        "        \"Downloads\": model.downloads,\n",
        "        \"likes\": model.likes,\n",
        "        \"Library_Name\": model.library_name,\n",
        "        \"Tags\": model.tags,\n",
        "        \"Pipeline_tag\":model.pipeline_tag,\n",
        "        \"mask_token\":model.mask_token,\n",
        "        \"Card_data\":model.card_data,\n",
        "        \"Widget_data\": model.widget_data,\n",
        "        \"model_index\": model.model_index,\n",
        "        \"config\": model.config,\n",
        "        \"transformers_info\": model.transformers_info,\n",
        "        \"siblings\": model.siblings,\n",
        "        \"Spaces\": model.spaces\n",
        "    }\n",
        "    df = pd.concat([df,pd.DataFrame([model_data])],ignore_index=True)\n",
        "\n",
        "df.to_csv(f\"./df_10.csv\",index = False)\n"
      ],
      "metadata": {
        "id": "AXPj_M4Wg0Je"
      },
      "execution_count": null,
      "outputs": []
    },
    {
      "cell_type": "code",
      "source": [],
      "metadata": {
        "id": "drs8J6-3jiDb"
      },
      "execution_count": null,
      "outputs": []
    }
  ],
  "metadata": {
    "colab": {
      "provenance": []
    },
    "kernelspec": {
      "display_name": "Python 3",
      "name": "python3"
    },
    "language_info": {
      "name": "python"
    }
  },
  "nbformat": 4,
  "nbformat_minor": 0
}